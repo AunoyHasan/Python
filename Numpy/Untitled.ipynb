{
 "cells": [
  {
   "cell_type": "markdown",
   "id": "86d48634",
   "metadata": {},
   "source": [
    "## Importing NumPy array"
   ]
  },
  {
   "cell_type": "code",
   "execution_count": 1,
   "id": "f7bf8a44",
   "metadata": {},
   "outputs": [],
   "source": [
    "import numpy as np"
   ]
  },
  {
   "cell_type": "markdown",
   "id": "7008003d",
   "metadata": {},
   "source": [
    "### 1-D array"
   ]
  },
  {
   "cell_type": "code",
   "execution_count": 2,
   "id": "9f0f604e",
   "metadata": {},
   "outputs": [
    {
     "data": {
      "text/plain": [
       "array([ 2,  4,  6,  8, 10, 12, 14, 16, 18, 20])"
      ]
     },
     "execution_count": 2,
     "metadata": {},
     "output_type": "execute_result"
    }
   ],
   "source": [
    "array1 = np.array([2, 4, 6, 8, 10, 12, 14, 16, 18, 20])\n",
    "array1"
   ]
  },
  {
   "cell_type": "code",
   "execution_count": 3,
   "id": "4ada64b4",
   "metadata": {},
   "outputs": [
    {
     "name": "stdout",
     "output_type": "stream",
     "text": [
      "[ 2  4  6  8 10 12 14 16 18 20]\n"
     ]
    }
   ],
   "source": [
    "print(array1)"
   ]
  },
  {
   "cell_type": "code",
   "execution_count": 4,
   "id": "736bc002",
   "metadata": {},
   "outputs": [
    {
     "data": {
      "text/plain": [
       "numpy.ndarray"
      ]
     },
     "execution_count": 4,
     "metadata": {},
     "output_type": "execute_result"
    }
   ],
   "source": [
    "type(array1) #type() returns the array type"
   ]
  },
  {
   "cell_type": "code",
   "execution_count": 5,
   "id": "0e8cd7e6",
   "metadata": {},
   "outputs": [
    {
     "data": {
      "text/plain": [
       "(10,)"
      ]
     },
     "execution_count": 5,
     "metadata": {},
     "output_type": "execute_result"
    }
   ],
   "source": [
    "array1.shape  #shape will return the shape of the numpy array"
   ]
  },
  {
   "cell_type": "markdown",
   "id": "749e8515",
   "metadata": {},
   "source": [
    "### 2-D array"
   ]
  },
  {
   "cell_type": "code",
   "execution_count": 7,
   "id": "f135d214",
   "metadata": {},
   "outputs": [
    {
     "data": {
      "text/plain": [
       "array([[1, 3, 5],\n",
       "       [2, 4, 6]])"
      ]
     },
     "execution_count": 7,
     "metadata": {},
     "output_type": "execute_result"
    }
   ],
   "source": [
    "array2 = np.array([ [1, 3, 5], [2, 4, 6] ])\n",
    "array2"
   ]
  },
  {
   "cell_type": "code",
   "execution_count": 8,
   "id": "9de75a20",
   "metadata": {},
   "outputs": [
    {
     "name": "stdout",
     "output_type": "stream",
     "text": [
      "[[1 3 5]\n",
      " [2 4 6]]\n"
     ]
    }
   ],
   "source": [
    "print(array2)"
   ]
  },
  {
   "cell_type": "code",
   "execution_count": 9,
   "id": "176c1d37",
   "metadata": {},
   "outputs": [
    {
     "data": {
      "text/plain": [
       "2"
      ]
     },
     "execution_count": 9,
     "metadata": {},
     "output_type": "execute_result"
    }
   ],
   "source": [
    "array2.ndim #ndim returns the dimention of the numpy array"
   ]
  },
  {
   "cell_type": "code",
   "execution_count": 10,
   "id": "54489211",
   "metadata": {},
   "outputs": [
    {
     "data": {
      "text/plain": [
       "1"
      ]
     },
     "execution_count": 10,
     "metadata": {},
     "output_type": "execute_result"
    }
   ],
   "source": [
    "array1.ndim"
   ]
  },
  {
   "cell_type": "code",
   "execution_count": 12,
   "id": "1abe90b3",
   "metadata": {},
   "outputs": [
    {
     "data": {
      "text/plain": [
       "6"
      ]
     },
     "execution_count": 12,
     "metadata": {},
     "output_type": "execute_result"
    }
   ],
   "source": [
    "array2.size #return the size(element number) of the array"
   ]
  },
  {
   "cell_type": "code",
   "execution_count": 13,
   "id": "6888f235",
   "metadata": {},
   "outputs": [
    {
     "data": {
      "text/plain": [
       "array([3, 6, 9])"
      ]
     },
     "execution_count": 13,
     "metadata": {},
     "output_type": "execute_result"
    }
   ],
   "source": [
    "array3 = np.array([3, 6, 9], dtype='int')\n",
    "array3"
   ]
  },
  {
   "cell_type": "code",
   "execution_count": 14,
   "id": "a1628879",
   "metadata": {},
   "outputs": [
    {
     "data": {
      "text/plain": [
       "array([3., 6., 9.])"
      ]
     },
     "execution_count": 14,
     "metadata": {},
     "output_type": "execute_result"
    }
   ],
   "source": [
    "array4 = np.array([3, 6, 9], dtype='float')\n",
    "array4"
   ]
  },
  {
   "cell_type": "code",
   "execution_count": 17,
   "id": "f32a34ca",
   "metadata": {},
   "outputs": [
    {
     "data": {
      "text/plain": [
       "array([3., 6., 9.])"
      ]
     },
     "execution_count": 17,
     "metadata": {},
     "output_type": "execute_result"
    }
   ],
   "source": [
    "array5 = np.array([3, 6, 9], dtype='double')\n",
    "array5"
   ]
  },
  {
   "cell_type": "markdown",
   "id": "4417ef7d",
   "metadata": {},
   "source": [
    "\n",
    "\n",
    "### zeros() method"
   ]
  },
  {
   "cell_type": "code",
   "execution_count": 18,
   "id": "760f38f9",
   "metadata": {},
   "outputs": [
    {
     "data": {
      "text/plain": [
       "array([[0., 0., 0.],\n",
       "       [0., 0., 0.],\n",
       "       [0., 0., 0.]])"
      ]
     },
     "execution_count": 18,
     "metadata": {},
     "output_type": "execute_result"
    }
   ],
   "source": [
    "zeros = np.zeros((3, 3))  #By defalult data type will float\n",
    "zeros"
   ]
  },
  {
   "cell_type": "code",
   "execution_count": 19,
   "id": "4cc18418",
   "metadata": {},
   "outputs": [
    {
     "data": {
      "text/plain": [
       "array([[0, 0, 0, 0],\n",
       "       [0, 0, 0, 0],\n",
       "       [0, 0, 0, 0],\n",
       "       [0, 0, 0, 0]])"
      ]
     },
     "execution_count": 19,
     "metadata": {},
     "output_type": "execute_result"
    }
   ],
   "source": [
    "zeros = np.zeros((4, 4), dtype='int')\n",
    "zeros"
   ]
  },
  {
   "cell_type": "markdown",
   "id": "da3fadf5",
   "metadata": {},
   "source": [
    "\n",
    "\n",
    "### ones() method"
   ]
  },
  {
   "cell_type": "code",
   "execution_count": 20,
   "id": "22a324ad",
   "metadata": {},
   "outputs": [
    {
     "data": {
      "text/plain": [
       "array([[1., 1., 1.],\n",
       "       [1., 1., 1.],\n",
       "       [1., 1., 1.]])"
      ]
     },
     "execution_count": 20,
     "metadata": {},
     "output_type": "execute_result"
    }
   ],
   "source": [
    "ones = np.ones((3, 3)) #by default data type is float\n",
    "ones"
   ]
  },
  {
   "cell_type": "code",
   "execution_count": 21,
   "id": "0da2ef5e",
   "metadata": {},
   "outputs": [
    {
     "data": {
      "text/plain": [
       "array([[1, 1, 1, 1],\n",
       "       [1, 1, 1, 1],\n",
       "       [1, 1, 1, 1],\n",
       "       [1, 1, 1, 1]])"
      ]
     },
     "execution_count": 21,
     "metadata": {},
     "output_type": "execute_result"
    }
   ],
   "source": [
    "ones = np.ones((4, 4), dtype='int')\n",
    "ones"
   ]
  },
  {
   "cell_type": "markdown",
   "id": "123030a3",
   "metadata": {},
   "source": [
    "\n",
    "\n",
    "### full() method"
   ]
  },
  {
   "cell_type": "code",
   "execution_count": 22,
   "id": "5a4f7518",
   "metadata": {},
   "outputs": [
    {
     "data": {
      "text/plain": [
       "array([[5, 5, 5],\n",
       "       [5, 5, 5]])"
      ]
     },
     "execution_count": 22,
     "metadata": {},
     "output_type": "execute_result"
    }
   ],
   "source": [
    "full = np.full((2,3), 5)\n",
    "full"
   ]
  },
  {
   "cell_type": "code",
   "execution_count": 23,
   "id": "61fa228c",
   "metadata": {},
   "outputs": [
    {
     "name": "stdout",
     "output_type": "stream",
     "text": [
      "[[5 5 5]\n",
      " [5 5 5]]\n"
     ]
    }
   ],
   "source": [
    "print(full)"
   ]
  },
  {
   "cell_type": "markdown",
   "id": "34d793b7",
   "metadata": {},
   "source": [
    "\n",
    "\n",
    "### indentify() method"
   ]
  },
  {
   "cell_type": "code",
   "execution_count": 27,
   "id": "18236aa2",
   "metadata": {},
   "outputs": [
    {
     "data": {
      "text/plain": [
       "array([[1., 0., 0., 0., 0.],\n",
       "       [0., 1., 0., 0., 0.],\n",
       "       [0., 0., 1., 0., 0.],\n",
       "       [0., 0., 0., 1., 0.],\n",
       "       [0., 0., 0., 0., 1.]])"
      ]
     },
     "execution_count": 27,
     "metadata": {},
     "output_type": "execute_result"
    }
   ],
   "source": [
    "identity = np.identity(5) #by fault data type is float\n",
    "identity"
   ]
  },
  {
   "cell_type": "code",
   "execution_count": 28,
   "id": "47085102",
   "metadata": {},
   "outputs": [
    {
     "data": {
      "text/plain": [
       "array([[1, 0, 0, 0, 0],\n",
       "       [0, 1, 0, 0, 0],\n",
       "       [0, 0, 1, 0, 0],\n",
       "       [0, 0, 0, 1, 0],\n",
       "       [0, 0, 0, 0, 1]])"
      ]
     },
     "execution_count": 28,
     "metadata": {},
     "output_type": "execute_result"
    }
   ],
   "source": [
    "identity = np.identity(5, dtype='int') #by fault data type is float\n",
    "identity"
   ]
  },
  {
   "cell_type": "markdown",
   "id": "167fd4e1",
   "metadata": {},
   "source": [
    "\n",
    "\n",
    "\n",
    "### eye() method"
   ]
  },
  {
   "cell_type": "code",
   "execution_count": 29,
   "id": "5ccbdcaf",
   "metadata": {},
   "outputs": [
    {
     "data": {
      "text/plain": [
       "array([[1., 0., 0.],\n",
       "       [0., 1., 0.],\n",
       "       [0., 0., 1.]])"
      ]
     },
     "execution_count": 29,
     "metadata": {},
     "output_type": "execute_result"
    }
   ],
   "source": [
    "eye1 = np.eye(3, 3)\n",
    "eye1"
   ]
  },
  {
   "cell_type": "code",
   "execution_count": 30,
   "id": "2508beb1",
   "metadata": {},
   "outputs": [
    {
     "data": {
      "text/plain": [
       "array([[0., 1., 0.],\n",
       "       [0., 0., 1.],\n",
       "       [0., 0., 0.]])"
      ]
     },
     "execution_count": 30,
     "metadata": {},
     "output_type": "execute_result"
    }
   ],
   "source": [
    "eye1 = np.eye(3, 3, 1)\n",
    "eye1"
   ]
  },
  {
   "cell_type": "code",
   "execution_count": 31,
   "id": "3bf2bc2c",
   "metadata": {},
   "outputs": [
    {
     "data": {
      "text/plain": [
       "array([[0., 0., 0.],\n",
       "       [1., 0., 0.],\n",
       "       [0., 1., 0.]])"
      ]
     },
     "execution_count": 31,
     "metadata": {},
     "output_type": "execute_result"
    }
   ],
   "source": [
    "eye1 = np.eye(3, 3, -1)\n",
    "eye1"
   ]
  },
  {
   "cell_type": "markdown",
   "id": "afd614b1",
   "metadata": {},
   "source": [
    "\n",
    "\n",
    "\n",
    "### arange()\n"
   ]
  },
  {
   "cell_type": "code",
   "execution_count": 32,
   "id": "7b94fa4c",
   "metadata": {},
   "outputs": [
    {
     "data": {
      "text/plain": [
       "array([ 1,  5,  9, 13, 17])"
      ]
     },
     "execution_count": 32,
     "metadata": {},
     "output_type": "execute_result"
    }
   ],
   "source": [
    "arange = np.arange(1, 20, 4)\n",
    "arange"
   ]
  },
  {
   "cell_type": "markdown",
   "id": "ac92be21",
   "metadata": {},
   "source": [
    "\n",
    "\n",
    "### linspace() method"
   ]
  },
  {
   "cell_type": "code",
   "execution_count": 35,
   "id": "7665f7c1",
   "metadata": {},
   "outputs": [
    {
     "data": {
      "text/plain": [
       "array([1.        , 1.44444444, 1.88888889, 2.33333333, 2.77777778,\n",
       "       3.22222222, 3.66666667, 4.11111111, 4.55555556, 5.        ])"
      ]
     },
     "execution_count": 35,
     "metadata": {},
     "output_type": "execute_result"
    }
   ],
   "source": [
    "linspace = np.linspace(1, 5, 10) #(start, stop, how_many_value_I_want)\n",
    "linspace"
   ]
  },
  {
   "cell_type": "markdown",
   "id": "bfb17ee2",
   "metadata": {},
   "source": [
    "\n",
    "\n",
    "### empty() method"
   ]
  },
  {
   "cell_type": "code",
   "execution_count": 36,
   "id": "7db0d0f2",
   "metadata": {},
   "outputs": [
    {
     "data": {
      "text/plain": [
       "array([[1653589744,        427,          0,          0,     131074]])"
      ]
     },
     "execution_count": 36,
     "metadata": {},
     "output_type": "execute_result"
    }
   ],
   "source": [
    "empty = np.empty((1, 5), dtype='int')\n",
    "empty"
   ]
  },
  {
   "cell_type": "code",
   "execution_count": null,
   "id": "f9d4ebce",
   "metadata": {},
   "outputs": [],
   "source": [
    "for i in range(5):\n",
    "    empty(:)"
   ]
  }
 ],
 "metadata": {
  "kernelspec": {
   "display_name": "Python 3 (ipykernel)",
   "language": "python",
   "name": "python3"
  },
  "language_info": {
   "codemirror_mode": {
    "name": "ipython",
    "version": 3
   },
   "file_extension": ".py",
   "mimetype": "text/x-python",
   "name": "python",
   "nbconvert_exporter": "python",
   "pygments_lexer": "ipython3",
   "version": "3.10.0"
  }
 },
 "nbformat": 4,
 "nbformat_minor": 5
}
